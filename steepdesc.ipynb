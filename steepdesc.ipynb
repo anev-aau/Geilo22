{
 "cells": [
  {
   "cell_type": "markdown",
   "id": "parliamentary-airline",
   "metadata": {},
   "source": [
    "# Gradient/steepest descent"
   ]
  },
  {
   "cell_type": "markdown",
   "id": "coupled-fleet",
   "metadata": {},
   "source": [
    "Gradient/steepest descent is arguably both the simplest and one of the slowest linesearch algorithms for unconstrained minimization.  From this perspective it provides an excellent starting point for performance improvements.\n",
    "The algorithm is based on the iteration\n",
    "$$\n",
    "x_{k+1} = x_k - \\alpha_k \\nabla f(x_k),\n",
    "$$\n",
    "where $\\alpha_k$ is the steplength, which is determined by a linesearch procedure.  Here we utilize the backtraking linesearch.\n",
    "\n",
    "We begin with the implementation of the linesearch."
   ]
  },
  {
   "cell_type": "code",
   "execution_count": 1,
   "id": "urban-manitoba",
   "metadata": {},
   "outputs": [],
   "source": [
    "import numpy as np"
   ]
  },
  {
   "cell_type": "code",
   "execution_count": 2,
   "id": "dangerous-property",
   "metadata": {},
   "outputs": [],
   "source": [
    "def bcktrck_lsrch(x,p,f,df,c1):\n",
    "    # f, df: function and its gradient\n",
    "    # c1: sufficient decrease parameter\n",
    "    # x,p: current point and linesearch direction\n",
    "    # initial steplength and step reduction at each failed attempt\n",
    "    alpha = 1.0\n",
    "    rho   = 0.5\n",
    "    # precompute some quantities outside of the loop\n",
    "    f0    = f(x)\n",
    "    pdf0  = df(x).dot(p)\n",
    "    # do not spend more than MAX_ITER iterations in linesearch\n",
    "    MAX_ITER = 20\n",
    "    n_iter   = 0\n",
    "    while (f(x+alpha*p) > f0 + c1*alpha*pdf0) and \\\n",
    "          (n_iter < MAX_ITER):\n",
    "        alpha  *= rho\n",
    "        n_iter += 1\n",
    "    return alpha"
   ]
  },
  {
   "cell_type": "code",
   "execution_count": 3,
   "id": "unavailable-beast",
   "metadata": {},
   "outputs": [],
   "source": [
    "def steepest_descent(x0,f,df,eps_grad):\n",
    "    c1, c2 = 1.0E-04, 0.9\n",
    "    xk = x0.copy()\n",
    "    x_history = [xk.copy()]\n",
    "    f_history = [f(xk)]\n",
    "    \n",
    "    while True:\n",
    "        pk     = -df(xk)\n",
    "        # Check the necessary optimality conditions\n",
    "        if (np.linalg.norm(pk) < eps_grad):\n",
    "            break\n",
    "        alphak = bcktrck_lsrch(xk,pk,f,df,c1)\n",
    "        # or \n",
    "        # alphak = bracketing_lsrch(xk,pk,f,df,c1,c2)\n",
    "        xk    += alphak*pk\n",
    "        x_history.append(xk.copy())\n",
    "        f_history.append(f(xk))\n",
    "    return xk, x_history, f_history"
   ]
  },
  {
   "cell_type": "markdown",
   "id": "concrete-campbell",
   "metadata": {},
   "source": [
    "Below is the standard benchmark: Rosenbrock \"banana\" function."
   ]
  },
  {
   "cell_type": "code",
   "execution_count": 4,
   "id": "exempt-chile",
   "metadata": {},
   "outputs": [],
   "source": [
    "def banana(x):\n",
    "    return (1-x[0])**2 + 100*(x[1]-x[0]**2)**2"
   ]
  },
  {
   "cell_type": "code",
   "execution_count": 5,
   "id": "necessary-questionnaire",
   "metadata": {},
   "outputs": [],
   "source": [
    "def d_banana(x):\n",
    "    return np.array([-2*(1-x[0]) - 400*(x[1]-x[0]**2)*x[0], \\\n",
    "                     200*(x[1]-x[0]**2)])"
   ]
  },
  {
   "cell_type": "markdown",
   "id": "durable-gardening",
   "metadata": {},
   "source": [
    "Let us try out our implementation:"
   ]
  },
  {
   "cell_type": "code",
   "execution_count": 6,
   "id": "senior-bracelet",
   "metadata": {},
   "outputs": [
    {
     "name": "stdout",
     "output_type": "stream",
     "text": [
      "Final f=5.974222e-13, |df|=9.938928e-07\n"
     ]
    }
   ],
   "source": [
    "x0 = np.array([0.5,-1])\n",
    "eps_grad = 1.0E-06\n",
    "\n",
    "x, x_history, f_history = steepest_descent(x0,banana,d_banana,eps_grad)\n",
    "print(\"Final f=%e, |df|=%e\" % (banana(x),np.linalg.norm(d_banana(x))))"
   ]
  },
  {
   "cell_type": "markdown",
   "id": "entitled-hello",
   "metadata": {},
   "source": [
    "As with all first order methods, there is a lot of progress made in the beginning, after which not much is happening."
   ]
  },
  {
   "cell_type": "code",
   "execution_count": 7,
   "id": "visible-booth",
   "metadata": {},
   "outputs": [
    {
     "data": {
      "image/png": "[encoded data removed]",
      "text/plain": [
       "<Figure size 432x288 with 1 Axes>"
      ]
     },
     "metadata": {
      "needs_background": "light"
     },
     "output_type": "display_data"
    }
   ],
   "source": [
    "import matplotlib.pyplot as plt\n",
    "\n",
    "plt.semilogy(f_history)\n",
    "plt.grid(True)\n",
    "plt.xlabel(r'$k$')\n",
    "plt.ylabel(r'$f(x_k)$')\n",
    "plt.show()"
   ]
  },
  {
   "cell_type": "markdown",
   "id": "renewable-lafayette",
   "metadata": {},
   "source": [
    "Let us plot the iterates on the countormap of the function.  Note the excessive 'zigzagging' once the method enters the 'valley'.  The initial 'overshoot' of the valley may be corrected by imposing more stringent sufficient decrease condition, that is, larger $c_1$."
   ]
  },
  {
   "cell_type": "code",
   "execution_count": 8,
   "id": "narrative-gravity",
   "metadata": {},
   "outputs": [
    {
     "data": {
      "image/png": "[encoded data removed]",
      "text/plain": [
       "<Figure size 432x288 with 2 Axes>"
      ]
     },
     "metadata": {
      "needs_background": "light"
     },
     "output_type": "display_data"
    }
   ],
   "source": [
    "import matplotlib.cm as cm\n",
    "\n",
    "xmin,xmax = -2,2\n",
    "ymin,ymax = -2,2\n",
    "xx = np.linspace(xmin,xmax,100)\n",
    "yy = np.linspace(ymin,ymax,100)\n",
    "X, Y = np.meshgrid(xx,yy)\n",
    "with np.nditer([X, Y, None]) as it:\n",
    "    for xi,yi,zi in it:\n",
    "        zi[...] = np.log(banana(np.array([xi,yi])))\n",
    "    Z = it.operands[2]\n",
    "plt.contourf(X,Y,Z,cmap=cm.jet,extent=(xmin,xmax,ymin,ymax))\n",
    "\n",
    "xhist = np.stack( x_history, axis=0 )\n",
    "plt.plot(xhist[:,0],xhist[:,1],'-xk')\n",
    "\n",
    "plt.xlabel('x')\n",
    "plt.ylabel('y')\n",
    "plt.colorbar()\n",
    "plt.show()"
   ]
  },
  {
   "cell_type": "markdown",
   "id": "conventional-vertical",
   "metadata": {},
   "source": [
    "Finally, here is an reference implementation of the bracketing linesearch, which guarantees Wolfe conditions at the end.  This is important, for example, for BFGS method."
   ]
  },
  {
   "cell_type": "code",
   "execution_count": 9,
   "id": "guilty-underwear",
   "metadata": {},
   "outputs": [],
   "source": [
    "def bracketing_lsrch(x,p,f,df,c1,c2):\n",
    "    # linesearch, which guarantees Wolfe conditions\n",
    "    alpha_min, alpha_max = 0.0, np.inf\n",
    "    alpha = 1.0\n",
    "    fx   = f(x)\n",
    "    dfx  = df(x)\n",
    "    dfxp = dfx.dot(p)\n",
    "    while alpha < 1.0E+10:\n",
    "        if np.abs(alpha_max-alpha_min)<1.0E-10:\n",
    "            return alpha\n",
    "        if f(x+alpha*p) > fx + alpha*c1*dfxp:\n",
    "            # no sufficient decrease: too long step\n",
    "            alpha_max = alpha\n",
    "            alpha = 0.5*(alpha_max + alpha_min)\n",
    "        elif df(x+alpha*p).dot(p) < c2*dfxp:\n",
    "            # no curvature condition: too short step\n",
    "            alpha_min = alpha\n",
    "            if alpha_max == np.inf:\n",
    "                alpha *= 2.0\n",
    "            else:\n",
    "                alpha = 0.5*(alpha_max + alpha_min)\n",
    "        else:\n",
    "            # we are done!\n",
    "            return alpha\n",
    "    raise ValueError('Steplength is way too long!')"
   ]
  },
  {
   "cell_type": "code",
   "execution_count": null,
   "id": "progressive-export",
   "metadata": {},
   "outputs": [],
   "source": []
  }
 ],
 "metadata": {
  "kernelspec": {
   "display_name": "Python 3",
   "language": "python",
   "name": "python3"
  },
  "language_info": {
   "codemirror_mode": {
    "name": "ipython",
    "version": 3
   },
   "file_extension": ".py",
   "mimetype": "text/x-python",
   "name": "python",
   "nbconvert_exporter": "python",
   "pygments_lexer": "ipython3",
   "version": "3.8.8"
  }
 },
 "nbformat": 4,
 "nbformat_minor": 5
}

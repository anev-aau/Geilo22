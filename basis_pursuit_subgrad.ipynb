{
 "cells": [
  {
   "cell_type": "markdown",
   "id": "unique-opinion",
   "metadata": {},
   "source": [
    "# Subgradient projection method for basis pursuit"
   ]
  },
  {
   "cell_type": "markdown",
   "id": "floating-camera",
   "metadata": {},
   "source": [
    "Consider the basis pursuit problem:\n",
    "$$\n",
    "\\begin{aligned}\n",
    "&\\text{minimize } &&\\|x\\|_1 = \\sum_{i=1}^n |x_i|,\\\\\n",
    "&\\text{subject to } && Ax=b.\n",
    "\\end{aligned}\n",
    "$$\n",
    "We assume that $A\\in\\mathbb{R}^{m\\times n}$ has full row rank, $m<n$, $b\\in \\text{range }A \\subseteq \\mathbb{R}^m$.  A code snippet below generates a random instance of such a problem:"
   ]
  },
  {
   "cell_type": "code",
   "execution_count": 1,
   "id": "nearby-daniel",
   "metadata": {},
   "outputs": [],
   "source": [
    "import numpy as np\n",
    "\n",
    "def random_instance(m,n):\n",
    "    A = np.random.rand(m,n)\n",
    "    b = A.sum(axis=1)\n",
    "    return (A,b)"
   ]
  },
  {
   "cell_type": "markdown",
   "id": "academic-albuquerque",
   "metadata": {},
   "source": [
    "We now provide a prototypical implementation of the subgradient projection algorithm for this problem:"
   ]
  },
  {
   "cell_type": "code",
   "execution_count": 2,
   "id": "bound-lightning",
   "metadata": {},
   "outputs": [],
   "source": [
    "from scipy.linalg import cho_factor, cho_solve\n",
    "\n",
    "def subgradient(x):\n",
    "    # subgradient of 1-norm\n",
    "    return np.sign(x)\n",
    "\n",
    "def project(y,A,b,AAT_fact):\n",
    "    # Projection of y onto the affine manifold {x: Ax=b}\n",
    "    return y-A.T@(cho_solve(AAT_fact, A@y-b))\n",
    "\n",
    "def subgradient_method(x0,A,b):\n",
    "    xk       = x0.copy()\n",
    "    x_best   = xk.copy()\n",
    "    f_best   = float('inf')\n",
    "    f_history= []\n",
    "    # we prefactorize AA^T, since we are solving this system\n",
    "    # at every iteration\n",
    "    AAT_fact = cho_factor(A@A.T)\n",
    "    k_max    = 1000000\n",
    "    k_print  = 10000\n",
    "    x_diff   = 1.0E-06\n",
    "    for k in range(k_max):\n",
    "        # get a subgradient\n",
    "        gk = subgradient(xk)\n",
    "        # Since subradients are not necessarily descent directions,\n",
    "        # we cannot use linesearch. Instead, we use the rule\n",
    "        # where alpha_k->0 but sum(alpha_k)=infinity.\n",
    "        alphak = 1.0/(1+k)\n",
    "        # Project the step onto the feasible set\n",
    "        xk1 = project(xk-alphak*gk,A,b,AAT_fact)\n",
    "        # Compute the new objective and possibly update\n",
    "        # the best so far\n",
    "        fk1 = np.linalg.norm(xk1,ord=1)\n",
    "        f_history.append(fk1)\n",
    "        if fk1 < f_best:\n",
    "            x_best = xk1.copy()\n",
    "            f_best = fk1\n",
    "        # Print messages every k_print iterations\n",
    "        if k%k_print == 0:\n",
    "            print(\"Iter: %6d, fk: %e\" % (k,fk1))\n",
    "        # We stop when the method stops making progress.\n",
    "        # This is not a good practice; one should instead \n",
    "        # check the optimality conditions in general.\n",
    "        if np.linalg.norm(xk-xk1,np.inf) < x_diff:\n",
    "            break\n",
    "        xk = xk1\n",
    "    return x_best,k,f_history"
   ]
  },
  {
   "cell_type": "markdown",
   "id": "moderate-advancement",
   "metadata": {},
   "source": [
    "Let us test it on some small problems."
   ]
  },
  {
   "cell_type": "code",
   "execution_count": 3,
   "id": "legitimate-happening",
   "metadata": {},
   "outputs": [],
   "source": [
    "A,b=random_instance(5,20)"
   ]
  },
  {
   "cell_type": "code",
   "execution_count": 4,
   "id": "municipal-square",
   "metadata": {},
   "outputs": [
    {
     "name": "stdout",
     "output_type": "stream",
     "text": [
      "Iter:      0, fk: 1.903090e+01\n",
      "Iter:  10000, fk: 1.646753e+01\n",
      "Iter:  20000, fk: 1.642056e+01\n",
      "Iter:  30000, fk: 1.639310e+01\n",
      "Iter:  40000, fk: 1.637594e+01\n",
      "Iter:  50000, fk: 1.636577e+01\n",
      "Iter:  60000, fk: 1.635744e+01\n",
      "Iter:  70000, fk: 1.635043e+01\n",
      "Iter:  80000, fk: 1.634433e+01\n",
      "Iter:  90000, fk: 1.633896e+01\n",
      "Iter: 100000, fk: 1.633415e+01\n",
      "Iter: 110000, fk: 1.632980e+01\n",
      "Iter: 120000, fk: 1.632583e+01\n",
      "Iter: 130000, fk: 1.632218e+01\n",
      "Iter: 140000, fk: 1.631880e+01\n",
      "Iter: 150000, fk: 1.631566e+01\n",
      "Iter: 160000, fk: 1.631271e+01\n",
      "Iter: 170000, fk: 1.630995e+01\n",
      "Iter: 180000, fk: 1.630733e+01\n",
      "Iter: 190000, fk: 1.630487e+01\n",
      "Iter: 200000, fk: 1.630253e+01\n",
      "Iter: 210000, fk: 1.630031e+01\n",
      "Iter: 220000, fk: 1.629819e+01\n",
      "Iter: 230000, fk: 1.629616e+01\n",
      "Iter: 240000, fk: 1.629422e+01\n",
      "Iter: 250000, fk: 1.629235e+01\n",
      "Iter: 260000, fk: 1.629057e+01\n",
      "Iter: 270000, fk: 1.628885e+01\n",
      "Iter: 280000, fk: 1.628719e+01\n",
      "Iter: 290000, fk: 1.628559e+01\n",
      "Iter: 300000, fk: 1.628404e+01\n",
      "Iter: 310000, fk: 1.628255e+01\n",
      "Iter: 320000, fk: 1.628110e+01\n",
      "Iter: 330000, fk: 1.627970e+01\n",
      "Iter: 340000, fk: 1.627834e+01\n",
      "Iter: 350000, fk: 1.627701e+01\n",
      "Iter: 360000, fk: 1.627573e+01\n",
      "Iter: 370000, fk: 1.627448e+01\n",
      "Iter: 380000, fk: 1.627326e+01\n",
      "Iter: 390000, fk: 1.627208e+01\n",
      "Iter: 400000, fk: 1.627092e+01\n",
      "Iter: 410000, fk: 1.626980e+01\n",
      "Iter: 420000, fk: 1.626870e+01\n",
      "Iter: 430000, fk: 1.626763e+01\n",
      "Iter: 437311, f : 1.626686e+01\n"
     ]
    }
   ],
   "source": [
    "x,k,f_history =subgradient_method(np.zeros(A.shape[1]),A,b)\n",
    "f   = np.linalg.norm(x,ord=1)\n",
    "print(\"Iter: %6d, f : %e\" % (k,f))"
   ]
  },
  {
   "cell_type": "code",
   "execution_count": 5,
   "id": "certain-woman",
   "metadata": {},
   "outputs": [
    {
     "data": {
      "image/png": "[encoded data removed]",
      "text/plain": [
       "<Figure size 432x288 with 1 Axes>"
      ]
     },
     "metadata": {
      "needs_background": "light"
     },
     "output_type": "display_data"
    }
   ],
   "source": [
    "import matplotlib.pyplot as plt\n",
    "\n",
    "plt.plot(f_history)\n",
    "plt.xlabel('k')\n",
    "plt.ylabel(r'$\\|x_k\\|_1$')\n",
    "plt.grid('on')"
   ]
  },
  {
   "cell_type": "code",
   "execution_count": null,
   "id": "flying-commission",
   "metadata": {},
   "outputs": [],
   "source": []
  }
 ],
 "metadata": {
  "kernelspec": {
   "display_name": "Python 3",
   "language": "python",
   "name": "python3"
  },
  "language_info": {
   "codemirror_mode": {
    "name": "ipython",
    "version": 3
   },
   "file_extension": ".py",
   "mimetype": "text/x-python",
   "name": "python",
   "nbconvert_exporter": "python",
   "pygments_lexer": "ipython3",
   "version": "3.8.8"
  }
 },
 "nbformat": 4,
 "nbformat_minor": 5
}

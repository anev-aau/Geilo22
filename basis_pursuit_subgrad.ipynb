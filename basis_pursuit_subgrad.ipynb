{
 "cells": [
  {
   "cell_type": "markdown",
   "id": "unique-opinion",
   "metadata": {},
   "source": [
    "# Subgradient projection method for basis pursuit"
   ]
  },
  {
   "cell_type": "markdown",
   "id": "floating-camera",
   "metadata": {},
   "source": [
    "Consider the basis pursuit problem:\n",
    "$$\n",
    "\\begin{aligned}\n",
    "&\\text{minimize } &&\\|x\\|_1 = \\sum_{i=1}^n |x_i|,\\\\\n",
    "&\\text{subject to } && Ax=b.\n",
    "\\end{aligned}\n",
    "$$\n",
    "We assume that $A\\in\\mathbb{R}^{m\\times n}$ has full row rank, $m<n$, $b\\in \\text{range }A \\subseteq \\mathbb{R}^m$.  A code snippet below generates a random instance of such a problem:"
   ]
  },
  {
   "cell_type": "code",
   "execution_count": 1,
   "id": "nearby-daniel",
   "metadata": {},
   "outputs": [],
   "source": [
    "import numpy as np\n",
    "\n",
    "def random_instance(m,n):\n",
    "    A = np.random.rand(m,n)\n",
    "    b = A.sum(axis=1)\n",
    "    return (A,b)"
   ]
  },
  {
   "cell_type": "markdown",
   "id": "academic-albuquerque",
   "metadata": {},
   "source": [
    "We now provide a prototypical implementation of the subgradient projection algorithm for this problem:"
   ]
  },
  {
   "cell_type": "code",
   "execution_count": 20,
   "id": "bound-lightning",
   "metadata": {},
   "outputs": [],
   "source": [
    "from scipy.linalg import cho_factor, cho_solve\n",
    "\n",
    "def subgradient(x):\n",
    "    # subgradient of 1-norm\n",
    "    return np.sign(x)\n",
    "\n",
    "def project(y,A,b,AAT_fact):\n",
    "    # Projection of y onto the affine manifold {x: Ax=b}\n",
    "    return y-A.T@(cho_solve(AAT_fact, A@y-b))\n",
    "\n",
    "def subgradient_method(x0,A,b):\n",
    "    xk       = x0.copy()\n",
    "    x_best   = xk.copy()\n",
    "    f_best   = float('inf')\n",
    "    # we prefactorize AA^T, since we are solving this system\n",
    "    # at every iteration\n",
    "    AAT_fact = cho_factor(A@A.T)\n",
    "    k_max    = 1000000\n",
    "    k_print  = 10000\n",
    "    x_diff   = 1.0E-06\n",
    "    for k in range(k_max):\n",
    "        # get a subgradient\n",
    "        gk = subgradient(xk)\n",
    "        # Since subradients are not necessarily descent directions,\n",
    "        # we cannot use linesearch. Instead, we use the rule\n",
    "        # where alpha_k->0 but sum(alpha_k)=infinity.\n",
    "        alphak = 1.0/(1+k)\n",
    "        # Project the step onto the feasible set\n",
    "        xk1 = project(xk-alphak*gk,A,b,AAT_fact)\n",
    "        # Compute the new objective and possibly update\n",
    "        # the best so far\n",
    "        fk1 = np.linalg.norm(xk1,ord=1)\n",
    "        if fk1 < f_best:\n",
    "            x_best = xk1.copy()\n",
    "            f_best = fk1\n",
    "        # Print messages every k_print iterations\n",
    "        if k%k_print == 0:\n",
    "            print(\"Iter: %6d, fk: %e\" % (k,fk1))\n",
    "        # We stop when the method stops making progress.\n",
    "        # This is not a good practice; one should instead \n",
    "        # check the optimality conditions in general.\n",
    "        if np.linalg.norm(xk-xk1,np.inf) < x_diff:\n",
    "            break\n",
    "        xk = xk1\n",
    "    return x_best,k"
   ]
  },
  {
   "cell_type": "markdown",
   "id": "moderate-advancement",
   "metadata": {},
   "source": [
    "Let us test it on some small problems."
   ]
  },
  {
   "cell_type": "code",
   "execution_count": 22,
   "id": "legitimate-happening",
   "metadata": {},
   "outputs": [
    {
     "name": "stdout",
     "output_type": "stream",
     "text": [
      "Iter:      0, fk: 1.822785e+01\n",
      "Iter:  10000, fk: 1.477722e+01\n",
      "Iter:  20000, fk: 1.475342e+01\n",
      "Iter:  30000, fk: 1.473940e+01\n",
      "Iter:  40000, fk: 1.472954e+01\n",
      "Iter:  50000, fk: 1.472187e+01\n",
      "Iter:  60000, fk: 1.471562e+01\n",
      "Iter:  70000, fk: 1.471032e+01\n",
      "Iter:  80000, fk: 1.470573e+01\n",
      "Iter:  90000, fk: 1.470169e+01\n",
      "Iter: 100000, fk: 1.469809e+01\n",
      "Iter: 110000, fk: 1.469481e+01\n",
      "Iter: 120000, fk: 1.469184e+01\n",
      "Iter: 130000, fk: 1.468908e+01\n",
      "Iter: 140000, fk: 1.468655e+01\n",
      "Iter: 150000, fk: 1.468419e+01\n",
      "Iter: 160000, fk: 1.468197e+01\n",
      "Iter: 170000, fk: 1.467989e+01\n",
      "Iter: 180000, fk: 1.467793e+01\n",
      "Iter: 190000, fk: 1.467607e+01\n",
      "Iter: 200000, fk: 1.467432e+01\n",
      "Iter: 210000, fk: 1.467265e+01\n",
      "Iter: 220000, fk: 1.467105e+01\n",
      "Iter: 230000, fk: 1.466952e+01\n",
      "Iter: 240000, fk: 1.466807e+01\n",
      "Iter: 250000, fk: 1.466667e+01\n",
      "Iter: 260000, fk: 1.466532e+01\n",
      "Iter: 270000, fk: 1.466403e+01\n",
      "Iter: 280000, fk: 1.466278e+01\n",
      "Iter: 290000, fk: 1.466158e+01\n",
      "Iter: 300000, fk: 1.466042e+01\n",
      "Iter: 310000, fk: 1.465930e+01\n",
      "Iter: 320000, fk: 1.465821e+01\n",
      "Iter: 330000, fk: 1.465715e+01\n",
      "Iter: 340000, fk: 1.465613e+01\n",
      "Iter: 350000, fk: 1.465514e+01\n",
      "Iter: 360000, fk: 1.465417e+01\n",
      "Iter: 370000, fk: 1.465323e+01\n",
      "Iter: 380000, fk: 1.465232e+01\n",
      "Iter: 390000, fk: 1.465143e+01\n",
      "Iter: 400000, fk: 1.465056e+01\n",
      "Iter: 410000, fk: 1.464971e+01\n",
      "Iter: 420000, fk: 1.464889e+01\n",
      "Iter: 430000, fk: 1.464808e+01\n",
      "Iter: 440000, fk: 1.464729e+01\n",
      "Iter: 450000, fk: 1.464652e+01\n",
      "Iter: 460000, fk: 1.464577e+01\n",
      "Iter: 470000, fk: 1.464503e+01\n",
      "Iter: 480000, fk: 1.464431e+01\n",
      "Iter: 490000, fk: 1.464360e+01\n",
      "Iter: 500000, fk: 1.464291e+01\n",
      "Iter: 510000, fk: 1.464223e+01\n",
      "Iter: 520000, fk: 1.464157e+01\n",
      "Iter: 530000, fk: 1.464091e+01\n",
      "Iter: 540000, fk: 1.464027e+01\n",
      "Iter: 550000, fk: 1.463964e+01\n",
      "Iter: 560000, fk: 1.463903e+01\n",
      "Iter: 570000, fk: 1.463842e+01\n",
      "Iter: 578308, f : 1.463792e+01\n"
     ]
    }
   ],
   "source": [
    "A,b=random_instance(5,20)\n",
    "x,k =subgradient_method(np.zeros(A.shape[1]),A,b)\n",
    "f   = np.linalg.norm(x,ord=1)\n",
    "print(\"Iter: %6d, f : %e\" % (k,f))"
   ]
  }
 ],
 "metadata": {
  "kernelspec": {
   "display_name": "Python 3",
   "language": "python",
   "name": "python3"
  },
  "language_info": {
   "codemirror_mode": {
    "name": "ipython",
    "version": 3
   },
   "file_extension": ".py",
   "mimetype": "text/x-python",
   "name": "python",
   "nbconvert_exporter": "python",
   "pygments_lexer": "ipython3",
   "version": "3.8.8"
  }
 },
 "nbformat": 4,
 "nbformat_minor": 5
}
